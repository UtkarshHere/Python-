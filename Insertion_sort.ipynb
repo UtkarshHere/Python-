{
  "nbformat": 4,
  "nbformat_minor": 0,
  "metadata": {
    "colab": {
      "name": "Insertion sort.ipynb",
      "provenance": [],
      "authorship_tag": "ABX9TyOGpOcvNMvOmGMoppYJSRuN",
      "include_colab_link": true
    },
    "kernelspec": {
      "name": "python3",
      "display_name": "Python 3"
    },
    "language_info": {
      "name": "python"
    }
  },
  "cells": [
    {
      "cell_type": "markdown",
      "metadata": {
        "id": "view-in-github",
        "colab_type": "text"
      },
      "source": [
        "<a href=\"https://colab.research.google.com/github/UtkarshHere/Python-/blob/main/Insertion_sort.ipynb\" target=\"_parent\"><img src=\"https://colab.research.google.com/assets/colab-badge.svg\" alt=\"Open In Colab\"/></a>"
      ]
    },
    {
      "cell_type": "code",
      "metadata": {
        "id": "Qvf6ooF16G-z"
      },
      "source": [
        "def insertion_sort(array):\n",
        "    for i in range(1, len(array)):       \n",
        "        #current number to be compared\n",
        "        curNum = array [i]\n",
        "        #compare curNum with the sorted part of the array and insert curNum\n",
        "        while i>0 and array[i-1] > curNum:\n",
        "            array[i] = array[i-1]\n",
        "            i = i-1\n",
        "            array[i] = curNum\n",
        "\n"
      ],
      "execution_count": 2,
      "outputs": []
    },
    {
      "cell_type": "code",
      "metadata": {
        "id": "ahmZywDd6ziM"
      },
      "source": [
        "array=[16,23,43,1,31,8]"
      ],
      "execution_count": 3,
      "outputs": []
    },
    {
      "cell_type": "code",
      "metadata": {
        "colab": {
          "base_uri": "https://localhost:8080/"
        },
        "id": "cdblZ7Ut62QH",
        "outputId": "8b44995a-b221-4ef4-e45e-54c7f806d9b4"
      },
      "source": [
        "print('Unsorted array')"
      ],
      "execution_count": 4,
      "outputs": [
        {
          "output_type": "stream",
          "text": [
            "Unsorted array\n"
          ],
          "name": "stdout"
        }
      ]
    },
    {
      "cell_type": "code",
      "metadata": {
        "colab": {
          "base_uri": "https://localhost:8080/"
        },
        "id": "eiMokO6d62Kj",
        "outputId": "32389e9f-31c3-4791-cacd-ae05e8f063c4"
      },
      "source": [
        "print(array)"
      ],
      "execution_count": 5,
      "outputs": [
        {
          "output_type": "stream",
          "text": [
            "[16, 23, 43, 1, 31, 8]\n"
          ],
          "name": "stdout"
        }
      ]
    },
    {
      "cell_type": "code",
      "metadata": {
        "colab": {
          "base_uri": "https://localhost:8080/"
        },
        "id": "gzoRlSW662E9",
        "outputId": "32582781-c831-4468-a727-413c6557c95f"
      },
      "source": [
        "print(' ')\n",
        "insertion_sort(array)"
      ],
      "execution_count": 6,
      "outputs": [
        {
          "output_type": "stream",
          "text": [
            " \n"
          ],
          "name": "stdout"
        }
      ]
    },
    {
      "cell_type": "code",
      "metadata": {
        "colab": {
          "base_uri": "https://localhost:8080/"
        },
        "id": "kSOROrr5619D",
        "outputId": "e2b80129-ee74-44e7-d889-19a498ebbfd7"
      },
      "source": [
        "print(' ')"
      ],
      "execution_count": 7,
      "outputs": [
        {
          "output_type": "stream",
          "text": [
            " \n"
          ],
          "name": "stdout"
        }
      ]
    },
    {
      "cell_type": "code",
      "metadata": {
        "colab": {
          "base_uri": "https://localhost:8080/"
        },
        "id": "ppIlnw3I6_-e",
        "outputId": "f513868c-6254-4dcb-e329-00f3fc721946"
      },
      "source": [
        "print('Sorted array')"
      ],
      "execution_count": 8,
      "outputs": [
        {
          "output_type": "stream",
          "text": [
            "Sorted array\n"
          ],
          "name": "stdout"
        }
      ]
    },
    {
      "cell_type": "code",
      "metadata": {
        "colab": {
          "base_uri": "https://localhost:8080/"
        },
        "id": "5VVLjD2P7B8P",
        "outputId": "5e703a66-e9ca-4fb9-f396-3727d840d443"
      },
      "source": [
        "print(array)"
      ],
      "execution_count": 9,
      "outputs": [
        {
          "output_type": "stream",
          "text": [
            "[1, 8, 16, 23, 31, 43]\n"
          ],
          "name": "stdout"
        }
      ]
    }
  ]
}