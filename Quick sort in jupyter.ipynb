{
  "nbformat": 4,
  "nbformat_minor": 0,
  "metadata": {
    "colab": {
      "name": "Untitled2.ipynb",
      "provenance": [],
      "authorship_tag": "ABX9TyOjYQm5VVezlfbQoQ62gPFN",
      "include_colab_link": true
    },
    "kernelspec": {
      "name": "python3",
      "display_name": "Python 3"
    },
    "language_info": {
      "name": "python"
    }
  },
  "cells": [
    {
      "cell_type": "markdown",
      "metadata": {
        "id": "view-in-github",
        "colab_type": "text"
      },
      "source": [
        "<a href=\"https://colab.research.google.com/github/UtkarshHere/Python-/blob/main/Quick%20sort%20in%20jupyter.ipynb\" target=\"_parent\"><img src=\"https://colab.research.google.com/assets/colab-badge.svg\" alt=\"Open In Colab\"/></a>"
      ]
    },
    {
      "cell_type": "code",
      "metadata": {
        "id": "nWDTuvQA4ON0"
      },
      "source": [
        "def partition(array,low,high):\n",
        "    i=(low-1)\n",
        "    pivot=array[high]\n",
        "    for j in range(low, high):\n",
        "        if array[j] <= pivot:\n",
        "            i += 1\n",
        "            array[i], array[j] = array[j], array[i]\n",
        "    array[i + 1], array[high] = array[high], array[i + 1]\n",
        "    return (i + 1)\n",
        "\n"
      ],
      "execution_count": 3,
      "outputs": []
    },
    {
      "cell_type": "code",
      "metadata": {
        "id": "Re4dqnCP42Ad"
      },
      "source": [
        "def quick_sort(array, low, high):\n",
        "    if low < high:\n",
        "        partition_index  = partition(array, low, high)\n",
        "        quick_sort(array, low, partition_index  - 1)\n",
        "        quick_sort(array, partition_index  + 1, high)\n",
        "\n"
      ],
      "execution_count": 4,
      "outputs": []
    },
    {
      "cell_type": "code",
      "metadata": {
        "id": "hv6l7vVI5CHQ"
      },
      "source": [
        "array = [1, 0, 4, 2, 3, 5]\n"
      ],
      "execution_count": 6,
      "outputs": []
    },
    {
      "cell_type": "code",
      "metadata": {
        "colab": {
          "base_uri": "https://localhost:8080/"
        },
        "id": "6SGSjrMS5Mil",
        "outputId": "3ff1a6a3-5521-42b4-9068-659241242e5e"
      },
      "source": [
        "print('Unsorted array')"
      ],
      "execution_count": 7,
      "outputs": [
        {
          "output_type": "stream",
          "text": [
            "Unsorted array\n"
          ],
          "name": "stdout"
        }
      ]
    },
    {
      "cell_type": "code",
      "metadata": {
        "colab": {
          "base_uri": "https://localhost:8080/"
        },
        "id": "0CEu0ugW5TXp",
        "outputId": "6b1b5113-e221-407d-8117-4bb6a2a85f1a"
      },
      "source": [
        "print(array)"
      ],
      "execution_count": 8,
      "outputs": [
        {
          "output_type": "stream",
          "text": [
            "[1, 0, 4, 2, 3, 5]\n"
          ],
          "name": "stdout"
        }
      ]
    },
    {
      "cell_type": "code",
      "metadata": {
        "id": "mlmic5xo5Y0z"
      },
      "source": [
        "low = 0"
      ],
      "execution_count": 9,
      "outputs": []
    },
    {
      "cell_type": "code",
      "metadata": {
        "id": "qKayP5GS5ao-"
      },
      "source": [
        "high = len(array) - 1"
      ],
      "execution_count": 10,
      "outputs": []
    },
    {
      "cell_type": "code",
      "metadata": {
        "id": "qiGX4cR35ahV"
      },
      "source": [
        "quick_sort(array, low, high)"
      ],
      "execution_count": 11,
      "outputs": []
    },
    {
      "cell_type": "code",
      "metadata": {
        "colab": {
          "base_uri": "https://localhost:8080/"
        },
        "id": "HL3ujex55aZz",
        "outputId": "996ba1ac-60cf-41c0-e38f-650e0cd45cd3"
      },
      "source": [
        "print('Sorted array')"
      ],
      "execution_count": 12,
      "outputs": [
        {
          "output_type": "stream",
          "text": [
            "Sorted array\n"
          ],
          "name": "stdout"
        }
      ]
    },
    {
      "cell_type": "code",
      "metadata": {
        "colab": {
          "base_uri": "https://localhost:8080/"
        },
        "id": "n81vCEyh5aRX",
        "outputId": "4007859a-8049-4a5a-b992-cf45f8ef17b7"
      },
      "source": [
        "print(array)"
      ],
      "execution_count": 13,
      "outputs": [
        {
          "output_type": "stream",
          "text": [
            "[0, 1, 2, 3, 4, 5]\n"
          ],
          "name": "stdout"
        }
      ]
    },
    {
      "cell_type": "code",
      "metadata": {
        "id": "RG9CJWH-5Yu2"
      },
      "source": [
        ""
      ],
      "execution_count": null,
      "outputs": []
    }
  ]
}