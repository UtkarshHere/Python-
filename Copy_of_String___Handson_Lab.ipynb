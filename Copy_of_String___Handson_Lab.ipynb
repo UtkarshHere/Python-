{
  "nbformat": 4,
  "nbformat_minor": 0,
  "metadata": {
    "kernelspec": {
      "display_name": "Python 3",
      "language": "python",
      "name": "python3"
    },
    "language_info": {
      "codemirror_mode": {
        "name": "ipython",
        "version": 3
      },
      "file_extension": ".py",
      "mimetype": "text/x-python",
      "name": "python",
      "nbconvert_exporter": "python",
      "pygments_lexer": "ipython3",
      "version": "3.7.6"
    },
    "colab": {
      "name": "Copy of String_-_Handson_Lab.ipynb",
      "provenance": [],
      "include_colab_link": true
    }
  },
  "cells": [
    {
      "cell_type": "markdown",
      "metadata": {
        "id": "view-in-github",
        "colab_type": "text"
      },
      "source": [
        "<a href=\"https://colab.research.google.com/github/UtkarshHere/Python-/blob/main/Copy_of_String___Handson_Lab.ipynb\" target=\"_parent\"><img src=\"https://colab.research.google.com/assets/colab-badge.svg\" alt=\"Open In Colab\"/></a>"
      ]
    },
    {
      "cell_type": "markdown",
      "metadata": {
        "id": "BkUqTknljKTl"
      },
      "source": [
        "### Hands-on lab on Strings"
      ]
    },
    {
      "cell_type": "code",
      "metadata": {
        "id": "nmqYN0OjjKTo"
      },
      "source": [
        "#defining a string with single quotes and printing it\n",
        "\n",
        "my_string = 'Hello'\n",
        "print(my_string)"
      ],
      "execution_count": null,
      "outputs": []
    },
    {
      "cell_type": "code",
      "metadata": {
        "id": "jHIZZMy-jKTp"
      },
      "source": [
        "#defining a string with double quotes and printing it\n",
        "\n",
        "my_string = \"Hello\"\n",
        "print(my_string)"
      ],
      "execution_count": null,
      "outputs": []
    },
    {
      "cell_type": "code",
      "metadata": {
        "id": "0Iq3mqKJjKTp"
      },
      "source": [
        "#defining a string with triple quotes and printing it\n",
        "\n",
        "my_string = '''Hello'''\n",
        "print(my_string)"
      ],
      "execution_count": null,
      "outputs": []
    },
    {
      "cell_type": "code",
      "metadata": {
        "id": "wzFatCYxjKTp"
      },
      "source": [
        "#defining a multiline string with triple quotes and printing it\n",
        "\n",
        "my_string = '''Hello Welcome to\n",
        "        the World of Python'''\n",
        "print(my_string)"
      ],
      "execution_count": null,
      "outputs": []
    },
    {
      "cell_type": "markdown",
      "metadata": {
        "id": "z9zQWLEbjKTq"
      },
      "source": [
        "#### String indexing"
      ]
    },
    {
      "cell_type": "code",
      "metadata": {
        "id": "wGyH0DjPjKTq"
      },
      "source": [
        "my_string = \"Hello\"\n",
        "print(my_string[0])"
      ],
      "execution_count": null,
      "outputs": []
    },
    {
      "cell_type": "code",
      "metadata": {
        "id": "8gskarHojKTr"
      },
      "source": [
        "my_string = \"Hello\"\n",
        "print(my_string[0.0])"
      ],
      "execution_count": null,
      "outputs": []
    },
    {
      "cell_type": "code",
      "metadata": {
        "id": "B7FFKYHejKTr"
      },
      "source": [
        "my_string = \"Hello\"\n",
        "print(my_string[6])"
      ],
      "execution_count": null,
      "outputs": []
    },
    {
      "cell_type": "markdown",
      "metadata": {
        "id": "0vPxQu2ejKTr"
      },
      "source": [
        "#### String reverse indexing"
      ]
    },
    {
      "cell_type": "code",
      "metadata": {
        "id": "kVFc19t3jKTs"
      },
      "source": [
        "my_string = \"Hello\"\n",
        "print(my_string[-1])"
      ],
      "execution_count": null,
      "outputs": []
    },
    {
      "cell_type": "code",
      "metadata": {
        "id": "nPf8rd2SjKTs"
      },
      "source": [
        "my_string = \"Hello\"\n",
        "print(my_string[-2])"
      ],
      "execution_count": null,
      "outputs": []
    },
    {
      "cell_type": "markdown",
      "metadata": {
        "id": "SgHGHuuhjKTs"
      },
      "source": [
        "#### Slicing the string"
      ]
    },
    {
      "cell_type": "code",
      "metadata": {
        "id": "XWIVLFWgjKTt"
      },
      "source": [
        "my_string = \"Hello\"\n",
        "print(\"3rd charecter to 5th character - \"+my_string[2:5])"
      ],
      "execution_count": null,
      "outputs": []
    },
    {
      "cell_type": "code",
      "metadata": {
        "id": "wu2djfbDjKTt"
      },
      "source": [
        "my_string = \"Hello\"\n",
        "print(\"All until 3rd character - \"+my_string[:3])"
      ],
      "execution_count": null,
      "outputs": []
    },
    {
      "cell_type": "code",
      "metadata": {
        "id": "Cn4tBn-IjKTt"
      },
      "source": [
        "my_string = \"Hello\"\n",
        "print(\"All from 2nd character - \"+my_string[2:])"
      ],
      "execution_count": null,
      "outputs": []
    },
    {
      "cell_type": "code",
      "metadata": {
        "id": "feug7vv3jKTt"
      },
      "source": [
        "my_string = \"abcdefghijk\"\n",
        "##stride\n",
        "print(\"String from 2nd to 10th char skipping one char - \"+my_string[1:11:2])"
      ],
      "execution_count": null,
      "outputs": []
    },
    {
      "cell_type": "markdown",
      "metadata": {
        "id": "8W7DDc9FjKTu"
      },
      "source": [
        "#### String is immutable - When you reassign the original string is dissociated from the name and the new string is assigned. "
      ]
    },
    {
      "cell_type": "code",
      "metadata": {
        "id": "KitdZUXyjKTu"
      },
      "source": [
        "my_string = \"Hello\"\n",
        "\n",
        "print(my_string)\n",
        "\n",
        "my_string = \"New String\"\n",
        "\n",
        "print(my_string)"
      ],
      "execution_count": null,
      "outputs": []
    },
    {
      "cell_type": "markdown",
      "metadata": {
        "id": "4ECeqCTojKTu"
      },
      "source": [
        "#### Deleting a string"
      ]
    },
    {
      "cell_type": "code",
      "metadata": {
        "id": "eN324qLCjKTu"
      },
      "source": [
        "#Let's delete the string object we created in the previous step\n",
        "\n",
        "#Check is string exists\n",
        "print(my_string)\n",
        "\n",
        "#delete the string\n",
        "del my_string\n",
        "\n",
        "#check if string exists - this should throw an error.\n",
        "print(my_string)\n"
      ],
      "execution_count": null,
      "outputs": []
    },
    {
      "cell_type": "markdown",
      "metadata": {
        "id": "olMIu2OIjKTu"
      },
      "source": [
        "#### String Functions"
      ]
    },
    {
      "cell_type": "code",
      "metadata": {
        "id": "2K-Jj7LzjKTv"
      },
      "source": [
        "#concatenaation\n",
        "\n",
        "str1 = \"Hello \"\n",
        "str2 = \"World\"\n",
        "\n",
        "print(str1+str2)\n",
        "\n"
      ],
      "execution_count": null,
      "outputs": []
    },
    {
      "cell_type": "code",
      "metadata": {
        "id": "AbDbUhajjKTv"
      },
      "source": [
        "#string contains another string\n",
        "\n",
        "str1 = \"Hello\"\n",
        "\n",
        "print(\"'e' in str1\",'e' in str1)\n",
        "\n",
        "print(\"'a' in str1\",'a' in str1)"
      ],
      "execution_count": null,
      "outputs": []
    },
    {
      "cell_type": "code",
      "metadata": {
        "id": "reA8Y3NujKTv"
      },
      "source": [
        "print(len(str1))"
      ],
      "execution_count": null,
      "outputs": []
    },
    {
      "cell_type": "markdown",
      "metadata": {
        "id": "Oks2mshmjKTv"
      },
      "source": [
        "#### Escape sequence in String "
      ]
    },
    {
      "cell_type": "code",
      "metadata": {
        "id": "kH0Kc0wijKTv"
      },
      "source": [
        "#We want \"Let's go\" to be printed in quotes. We use \\ to escape the meaning\n",
        "print(\"She said \\\"Let's go!\\\"\")"
      ],
      "execution_count": null,
      "outputs": []
    },
    {
      "cell_type": "code",
      "metadata": {
        "id": "aLmDMqlRjKTw"
      },
      "source": [
        "#print in uppercase\n",
        "\n",
        "print(\"abcdefghijklmnopqrstuvwxyz\".upper())"
      ],
      "execution_count": null,
      "outputs": []
    },
    {
      "cell_type": "code",
      "metadata": {
        "id": "0mQgXF47jKTw"
      },
      "source": [
        "#print in lowercase\n",
        "\n",
        "print(\"ABCDEFGHIJKLMNOPQRSTUVWXYZ\".lower())"
      ],
      "execution_count": null,
      "outputs": []
    },
    {
      "cell_type": "code",
      "metadata": {
        "id": "V3eeyHUWjKTw"
      },
      "source": [
        "# Join - joins str1 to every character of str2, but the last\n",
        "str1 = \"Hello\"\n",
        "str2 = \"World\"\n",
        "print(str1.join(str2))"
      ],
      "execution_count": null,
      "outputs": []
    },
    {
      "cell_type": "code",
      "metadata": {
        "id": "93XYgf2kjKTw"
      },
      "source": [
        "#split splits the string based on the separator and returns an array\n",
        "#default separator is space\n",
        "\n",
        "str1 = \"The quick brown fox jumped over the lazy dog\"\n",
        "\n",
        "print(str1.split())"
      ],
      "execution_count": null,
      "outputs": []
    },
    {
      "cell_type": "code",
      "metadata": {
        "id": "JMHlx-zujKTw"
      },
      "source": [
        "#split with comma separator\n",
        "str1 = \"Monday,Tuesday,Wednesday,Thursday,Friday,Saturday,Sunday\"\n",
        "\n",
        "print(str1.split(\",\"))"
      ],
      "execution_count": null,
      "outputs": []
    },
    {
      "cell_type": "code",
      "metadata": {
        "id": "3OdG9oBmjKTx"
      },
      "source": [
        "#find - returns the index of the string we are searching for\n",
        "\n",
        "str1 = \"The quick brown fox jumped over the lazy dog\"\n",
        "\n",
        "print(str1.find(\"fox\"))"
      ],
      "execution_count": null,
      "outputs": []
    },
    {
      "cell_type": "code",
      "metadata": {
        "id": "v6l04wsDjKTx"
      },
      "source": [
        "#for string not found, it returns -1\n",
        "print(str1.find(\"lion\"))"
      ],
      "execution_count": null,
      "outputs": []
    },
    {
      "cell_type": "code",
      "metadata": {
        "id": "fuV9aTyZjKTx"
      },
      "source": [
        "# replace - replaces the word in a string with another. \n",
        "# As string is immutable, new string object is created.\n",
        "\n",
        "str1 = \"The quick brown fox jumped over the lazy dog\"\n",
        "\n",
        "str1.replace(\"fox\",\"monkey\")\n",
        "\n"
      ],
      "execution_count": null,
      "outputs": []
    },
    {
      "cell_type": "code",
      "metadata": {
        "id": "A9aj5DVtjKTx"
      },
      "source": [
        ""
      ],
      "execution_count": null,
      "outputs": []
    }
  ]
}